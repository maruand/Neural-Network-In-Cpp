{
 "cells": [
  {
   "cell_type": "markdown",
   "id": "89f16a7b",
   "metadata": {},
   "source": [
    "# Testcase with PyTorch"
   ]
  },
  {
   "cell_type": "code",
   "execution_count": 49,
   "id": "0e71c6a2",
   "metadata": {},
   "outputs": [],
   "source": [
    "import torch.nn as nn\n",
    "import torch\n",
    "from torch.utils.data import DataLoader, Dataset\n",
    "import numpy as np\n",
    "import pandas as pd\n",
    "import os\n",
    "from sklearn.model_selection import train_test_split"
   ]
  },
  {
   "cell_type": "markdown",
   "id": "07af37fe",
   "metadata": {},
   "source": [
    "## Load preprocessed data"
   ]
  },
  {
   "cell_type": "code",
   "execution_count": 151,
   "id": "14ccc1d4",
   "metadata": {},
   "outputs": [
    {
     "name": "stdout",
     "output_type": "stream",
     "text": [
      "torch.Size([404, 14]) torch.Size([102, 14])\n",
      "   CrimeRate  ResidentialLandZone  IndustryProportion  RiverTract  \\\n",
      "0    5.58107                  0.0               18.10         0.0   \n",
      "1    9.92485                  0.0               18.10         0.0   \n",
      "2    0.06860                  0.0                2.89         0.0   \n",
      "3    6.53876                  0.0               18.10         1.0   \n",
      "4    0.09512                  0.0               12.83         0.0   \n",
      "\n",
      "   AirPollution  AvgRooms  OlderBuildingsPercent  DistanceToEmployment  \\\n",
      "0         0.713     6.436              87.900002                2.3158   \n",
      "1         0.740     6.251              96.599998                2.1980   \n",
      "2         0.445     7.416              62.500000                3.4952   \n",
      "3         0.631     7.016              97.500000                1.2024   \n",
      "4         0.437     6.286              45.000000                4.5026   \n",
      "\n",
      "   HighwayAccess  PropertyTaxRate  PupilTeacherRatio  BlackPopulation  \\\n",
      "0           24.0            666.0          20.200001       100.190002   \n",
      "1           24.0            666.0          20.200001       388.519989   \n",
      "2            2.0            276.0          18.000000       396.899994   \n",
      "3           24.0            666.0          20.200001       392.049988   \n",
      "4            5.0            398.0          18.700001       383.230011   \n",
      "\n",
      "   LowerStatusPercent  HousePrice  \n",
      "0           16.219999   14.300000  \n",
      "1           16.440001   12.600000  \n",
      "2            6.190000   33.200001  \n",
      "3            2.960000   50.000000  \n",
      "4            8.940000   21.400000  \n"
     ]
    }
   ],
   "source": [
    "data_pd = pd.read_csv('./data/housing_.csv')\n",
    "\n",
    "data = data_pd.values\n",
    "columns = data_pd.columns\n",
    "data = torch.tensor(data, dtype=torch.float32)\n",
    "\n",
    "train_data, test_data = train_test_split(data,train_size=0.8,test_size=0.2)\n",
    "print(train_data.shape, test_data.shape)\n",
    "\n",
    "train_data_df = pd.DataFrame(train_data)\n",
    "test_data_df = pd.DataFrame(test_data)\n",
    "train_data_df.columns = columns\n",
    "test_data_df.columns = columns\n",
    "print(train_data_df.head())\n",
    "train_data_df.to_csv('./data/train_data.csv',index=True)\n",
    "test_data_df.to_csv('./data/test_data.csv', index=True)"
   ]
  },
  {
   "cell_type": "code",
   "execution_count": null,
   "id": "34ad61c8",
   "metadata": {},
   "outputs": [],
   "source": [
    "class CustomDataset(Dataset):\n",
    "    def __init__(self, fp):\n",
    "        data = pd.read_csv(fp)\n",
    "        self.data = data.drop('HousePrice',axis=1).astype(float)\n",
    "        \n",
    "        self.target = data['HousePrice'].astype(float)\n",
    "    \n",
    "\n",
    "    \n",
    "       \n",
    "\n",
    "    def __len__(self):\n",
    "        return self.data.shape[0]\n",
    "    \n",
    "    def __shape__(self):\n",
    "        return self.data.shape\n",
    "\n",
    "    def __getitem__(self, idx):\n",
    "        data_x = self.data.iloc[idx] \n",
    "        data_y = self.target.iloc[idx]\n",
    "        return torch.tensor(data_x,dtype=torch.float32),torch.tensor(data_y,dtype=torch.float32)"
   ]
  },
  {
   "cell_type": "code",
   "execution_count": 143,
   "id": "e274d0a0",
   "metadata": {},
   "outputs": [],
   "source": [
    "class MLP(torch.nn.Module):\n",
    "    def __init__(self, input_size, hidden_size, output_size):\n",
    "        super(MLP, self).__init__()\n",
    "        self.fc1 = nn.Linear(input_size, hidden_size)\n",
    "        self.relu = nn.ReLU()\n",
    "        self.fc2 = nn.Linear(hidden_size, output_size)\n",
    "\n",
    "    def forward(self, x):\n",
    "        out = self.fc1(x)\n",
    "        out = self.relu(out)\n",
    "        out = self.fc2(out)\n",
    "        return out\n",
    "\n",
    "def train(model, optimizer, loss_fn, data_loader, n_epochs=100):\n",
    "\n",
    "    for epoch in range(n_epochs):\n",
    "        model.train()\n",
    "        loss_ = 0\n",
    "        for X, y in data_loader:\n",
    "        \n",
    "            output = model(X)\n",
    "            loss = loss_fn(output, y)\n",
    "            loss.backward()\n",
    "            optimizer.step()\n",
    "            optimizer.zero_grad()\n",
    "            loss_+=loss\n",
    "\n",
    "        if (epoch%100)==0:\n",
    "            print(f'Epoch: {epoch} | Loss: {loss.item():.4f}')\n",
    "\n",
    "\n",
    "\n",
    "\n"
   ]
  },
  {
   "cell_type": "code",
   "execution_count": 153,
   "id": "69071e57",
   "metadata": {},
   "outputs": [],
   "source": [
    "train_dataset = CustomDataset(fp='./data/train_data.csv')\n",
    "test_dataset = CustomDataset(fp='./data/test_data.csv')\n"
   ]
  },
  {
   "cell_type": "code",
   "execution_count": 147,
   "id": "9695df67",
   "metadata": {},
   "outputs": [
    {
     "name": "stderr",
     "output_type": "stream",
     "text": [
      "/var/folders/ms/1fs2z5sj60l86m3vc7bkzmc00000gn/T/ipykernel_58660/3175185563.py:18: FutureWarning: Series.__getitem__ treating keys as positions is deprecated. In a future version, integer keys will always be treated as labels (consistent with DataFrame behavior). To access a value by position, use `ser.iloc[pos]`\n",
      "  return torch.tensor(data_x,dtype=torch.float32),torch.tensor(data_y,dtype=torch.float32)\n"
     ]
    },
    {
     "name": "stdout",
     "output_type": "stream",
     "text": [
      "Epoch: 0 | Loss: 174257.7969\n",
      "Epoch: 100 | Loss: 163344.5000\n",
      "Epoch: 200 | Loss: 192306.5781\n",
      "Epoch: 300 | Loss: 180987.8281\n",
      "Epoch: 400 | Loss: 188886.4219\n",
      "Epoch: 500 | Loss: 186303.7812\n",
      "Epoch: 600 | Loss: 214704.7500\n",
      "Epoch: 700 | Loss: 172635.6406\n",
      "Epoch: 800 | Loss: 198253.6562\n",
      "Epoch: 900 | Loss: 193630.8594\n"
     ]
    }
   ],
   "source": [
    "\n",
    "train_dataloader = DataLoader(train_dataset, batch_size=16,shuffle=True)\n",
    "test_dataloader = DataLoader(test_dataset, batch_size=16)\n",
    "\n",
    "model = MLP(18,8,1)\n",
    "loss_fn = nn.L1Loss()\n",
    "optimizer = torch.optim.Adam(model.parameters(), lr = 0.000001)\n",
    "\n",
    "train(model, optimizer, loss_fn, train_dataloader,n_epochs=1000)"
   ]
  },
  {
   "cell_type": "code",
   "execution_count": null,
   "id": "d91f51f4",
   "metadata": {},
   "outputs": [],
   "source": []
  }
 ],
 "metadata": {
  "kernelspec": {
   "display_name": ".venv",
   "language": "python",
   "name": "python3"
  },
  "language_info": {
   "codemirror_mode": {
    "name": "ipython",
    "version": 3
   },
   "file_extension": ".py",
   "mimetype": "text/x-python",
   "name": "python",
   "nbconvert_exporter": "python",
   "pygments_lexer": "ipython3",
   "version": "3.13.1"
  }
 },
 "nbformat": 4,
 "nbformat_minor": 5
}
